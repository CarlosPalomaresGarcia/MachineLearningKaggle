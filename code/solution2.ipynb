{
 "cells": [
  {
   "cell_type": "code",
   "execution_count": 2,
   "metadata": {},
   "outputs": [],
   "source": [
    "import pandas as pd\n",
    "import numpy as np\n",
    "\n",
    "import pylab as plt\n",
    "import seaborn as sns\n",
    "\n",
    "import re\n",
    "\n",
    "from sklearn.model_selection import train_test_split as tts\n",
    "\n",
    "\n",
    "from sklearn.linear_model import LinearRegression\n",
    "from sklearn.metrics import mean_squared_error as mse\n",
    "from sklearn.preprocessing import StandardScaler"
   ]
  },
  {
   "cell_type": "code",
   "execution_count": 3,
   "metadata": {},
   "outputs": [],
   "source": [
    "train = pd.read_csv(r'train.csv')\n",
    "test = pd.read_csv(r'test.csv')\n",
    "sample = pd.read_csv(r'muestra.csv')"
   ]
  },
  {
   "cell_type": "code",
   "execution_count": 4,
   "metadata": {},
   "outputs": [],
   "source": [
    "alldata = pd.concat([train,test], axis=0)"
   ]
  },
  {
   "cell_type": "code",
   "execution_count": 5,
   "metadata": {},
   "outputs": [],
   "source": [
    "def column_touchscreen (df):\n",
    "    df['Touchscreen'] = df['Screen'].apply(lambda x: 0 if 'Touch' in x else 1)\n",
    "    df['Touchscreen'] = df['Touchscreen'].astype(int)\n",
    "\n",
    "column_touchscreen (alldata)"
   ]
  },
  {
   "cell_type": "code",
   "execution_count": 6,
   "metadata": {},
   "outputs": [],
   "source": [
    "def column_screen (df):\n",
    "    pattern_screen = r'(\\d+x\\d+)'\n",
    "    df['Screen'] = df['Screen'].str.extract(pattern_screen)\n",
    "\n",
    "column_screen (alldata)"
   ]
  },
  {
   "cell_type": "code",
   "execution_count": 7,
   "metadata": {},
   "outputs": [],
   "source": [
    "def column_screensize (df):\n",
    "    df['Screen Size'].unique()\n",
    "    df['Screen Size'] = df['Screen Size'].str.replace('\"', '')\n",
    "    df['Screen Size'] = df['Screen Size'].astype(float)\n",
    "    df['Screen Size'] = df['Screen Size'].astype(int)\n",
    "\n",
    "column_screensize (alldata)"
   ]
  },
  {
   "cell_type": "code",
   "execution_count": 8,
   "metadata": {},
   "outputs": [],
   "source": [
    "specs = {'Intel Core i5 2.3GHz': (2, 2.3),\n",
    "    'Intel Core i5 1.8GHz': (2, 1.8),\n",
    "    'Intel Core i5 7200U 2.5GHz': (2, 2.5),\n",
    "    'Intel Core i7 2.7GHz': (4, 2.7),\n",
    "    'Intel Core i5 3.1GHz': (4, 3.1),\n",
    "    'AMD A9-Series 9420 3GHz': (2, 3.0),\n",
    "    'Intel Core i7 2.2GHz': (4, 2.2),\n",
    "    'Intel Core i7 8550U 1.8GHz': (4, 1.8),\n",
    "    'Intel Core i5 8250U 1.6GHz': (4, 1.6),\n",
    "    'Intel Core i3 6006U 2GHz': (2, 2.0),\n",
    "    'Intel Core i7 2.8GHz': (4, 2.8),\n",
    "    'Intel Core M m3 1.2GHz': (2, 1.2),\n",
    "    'Intel Core i7 7500U 2.7GHz': (2, 2.7),\n",
    "    'Intel Core i7 2.9GHz': (4, 2.9),\n",
    "    'Intel Core i3 7100U 2.4GHz': (2, 2.4),\n",
    "    'Intel Atom x5-Z8350 1.44GHz': (4, 1.44),\n",
    "    'Intel Core i5 7300HQ 2.5GHz': (4, 2.5),\n",
    "    'AMD E-Series E2-9000e 1.5GHz': (2, 1.5),\n",
    "    'Intel Core i5 1.6GHz': (4, 1.6),\n",
    "    'Intel Core i7 8650U 1.9GHz': (4, 1.9),\n",
    "    'Intel Atom x5-Z8300 1.44GHz': (4, 1.44),\n",
    "    'AMD E-Series E2-6110 1.5GHz': (4, 1.5),\n",
    "    'AMD A6-Series 9220 2.5GHz': (2, 2.5),\n",
    "    'Intel Celeron Dual Core N3350 1.1GHz': (2, 1.1),\n",
    "    'Intel Core i3 7130U 2.7GHz': (2, 2.7),\n",
    "    'Intel Core i7 7700HQ 2.8GHz': (4, 2.8),\n",
    "    'Intel Core i5 2.0GHz': (4, 2.0),\n",
    "    'AMD Ryzen 1700 3GHz': (8, 3.0),\n",
    "    'AMD FX 9830P 3GHz': (4, 3.0),\n",
    "    'Intel Core i7 7560U 2.4GHz': (2, 2.4),\n",
    "    'AMD E-Series 6110 1.5GHz': (4, 1.5),\n",
    "    'Intel Core i5 6200U 2.3GHz': (2, 2.3),\n",
    "    'Intel Core M 6Y75 1.2GHz': (2, 1.2),\n",
    "    'Intel Core i5 7500U 2.7GHz': (2, 2.7),\n",
    "    'Intel Core i3 6006U 2.2GHz': (2, 2.2),\n",
    "    'AMD A6-Series 9220 2.9GHz': (2, 2.9),\n",
    "    'Intel Core i7 6920HQ 2.9GHz': (4, 2.9),\n",
    "    'Intel Core i5 7Y54 1.2GHz': (2, 1.2),\n",
    "    'Intel Core i7 7820HK 2.9GHz': (4, 2.9),\n",
    "    'Intel Xeon E3-1505M V6 3GHz': (4, 3.0),\n",
    "    'Intel Core i7 6500U 2.5GHz': (2, 2.5),\n",
    "    'AMD E-Series 9000e 1.5GHz': (2, 1.5),\n",
    "    'Intel Core i5 2.3GHz': (2, 2.3),\n",
    "    'Intel Core i5 1.8GHz': (2, 1.8),\n",
    "    'Intel Core i5 7200U 2.5GHz': (2, 2.5),\n",
    "    'Intel Core i7 2.7GHz': (4, 2.7),\n",
    "    'Intel Core i5 3.1GHz': (4, 3.1),\n",
    "    'AMD A9-Series 9420 3GHz': (2, 3.0),\n",
    "    'Intel Core i7 2.2GHz': (4, 2.2),\n",
    "    'Intel Core i7 8550U 1.8GHz': (4, 1.8),\n",
    "    'Intel Core i5 8250U 1.6GHz': (4, 1.6),\n",
    "    'Intel Core i3 6006U 2GHz': (2, 2.0),\n",
    "    'Intel Core i7 2.8GHz': (4, 2.8),\n",
    "    'Intel Core M m3 1.2GHz': (2, 1.2),\n",
    "    'Intel Core i7 7500U 2.7GHz': (2, 2.7),\n",
    "    'Intel Core i7 2.9GHz': (4, 2.9),\n",
    "    'Intel Core i3 7100U 2.4GHz': (2, 2.4),\n",
    "    'Intel Atom x5-Z8350 1.44GHz': (4, 1.44),\n",
    "    'Intel Core i5 7300HQ 2.5GHz': (4, 2.5),\n",
    "    'AMD E-Series E2-9000e 1.5GHz': (2, 1.5),\n",
    "    'Intel Core i5 1.6GHz': (4, 1.6),\n",
    "    'Intel Core i7 8650U 1.9GHz': (4, 1.9),\n",
    "    'Intel Atom x5-Z8300 1.44GHz': (4, 1.44),\n",
    "    'AMD E-Series E2-6110 1.5GHz': (4, 1.5),\n",
    "    'AMD A6-Series 9220 2.5GHz': (2, 2.5),\n",
    "    'Intel Celeron Dual Core N3350 1.1GHz': (2, 1.1),\n",
    "    'Intel Core i3 7130U 2.7GHz': (2, 2.7),\n",
    "    'Intel Core i7 7700HQ 2.8GHz': (4, 2.8),\n",
    "    'Intel Core i5 2.0GHz': (4, 2.0),\n",
    "    'AMD Ryzen 1700 3GHz': (8, 3.0),\n",
    "    'AMD FX 9830P 3GHz': (4, 3.0),\n",
    "    'Intel Core i7 7560U 2.4GHz': (2, 2.4),\n",
    "    'AMD E-Series 6110 1.5GHz': (4, 1.5),\n",
    "    'Intel Core i5 6200U 2.3GHz': (2, 2.3),\n",
    "    'Intel Core M 6Y75 1.2GHz': (2, 1.2),\n",
    "    'Intel Core i5 7500U 2.7GHz': (2, 2.7),\n",
    "    'Intel Core i3 6006U 2.2GHz': (2, 2.2),\n",
    "    'AMD A6-Series 9220 2.9GHz': (2, 2.9),\n",
    "    'Intel Core i7 6920HQ 2.9GHz': (4, 2.9),\n",
    "    'Intel Core i5 7Y54 1.2GHz': (2, 1.2),\n",
    "    'Intel Core i7 7820HK 2.9GHz': (4, 2.9),\n",
    "    'Intel Xeon E3-1505M V6 3GHz': (4, 3.0),\n",
    "    'Intel Core i7 6500U 2.5GHz': (2, 2.5),\n",
    "    'AMD E-Series 9000e 1.5GHz': (2, 1.5),\n",
    "    'AMD A10-Series A10-9620P 2.5GHz': (4, 2.5),\n",
    "    'AMD A6-Series A6-9220 2.5GHz': (2, 2.5),\n",
    "    'Intel Core i5 2.9GHz': (4, 2.9),\n",
    "    'Intel Core i7 6600U 2.6GHz': (2, 2.6),\n",
    "    'Intel Core i3 6006U 2.0GHz': (2, 2.0),\n",
    "    'Intel Celeron Dual Core 3205U 1.5GHz': (2, 1.5),\n",
    "    'Intel Core i7 7820HQ 2.9GHz': (4, 2.9),\n",
    "    'AMD A10-Series 9600P 2.4GHz': (4, 2.4),\n",
    "    'Intel Core i7 7600U 2.8GHz': (2, 2.8),\n",
    "    'AMD A8-Series 7410 2.2GHz': (4, 2.2),\n",
    "    'Intel Celeron Dual Core 3855U 1.6GHz': (2, 1.6),\n",
    "    'Intel Pentium Quad Core N3710 1.6GHz': (4, 1.6),\n",
    "    'AMD A12-Series 9720P 2.7GHz': (4, 2.7),\n",
    "    'Intel Core i5 7300U 2.6GHz': (2, 2.6),\n",
    "    'AMD A12-Series 9720P 3.6GHz': (4, 3.6),\n",
    "    'Intel Celeron Quad Core N3450 1.1GHz': (4, 1.1),\n",
    "    'Intel Celeron Dual Core N3060 1.60GHz': (2, 1.6),\n",
    "    'Intel Core i5 6440HQ 2.6GHz': (4, 2.6),\n",
    "    'Intel Core i7 6820HQ 2.7GHz': (4, 2.7),\n",
    "    'AMD Ryzen 1600 3.2GHz': (6, 3.2),\n",
    "    'Intel Core i7 7Y75 1.3GHz': (2, 1.3),\n",
    "    'Intel Core i5 7440HQ 2.8GHz': (4, 2.8),\n",
    "    'Intel Core i7 7660U 2.5GHz': (2, 2.5),\n",
    "    'Intel Core i7 7700HQ 2.7GHz': (4, 2.7),\n",
    "    'Intel Core M m3-7Y30 2.2GHz': (2, 2.2),\n",
    "    'Intel Core i5 7Y57 1.2GHz': (2, 1.2),\n",
    "    'Intel Core i7 6700HQ 2.6GHz': (4, 2.6),\n",
    "    'Intel Core i3 6100U 2.3GHz': (2, 2.3),\n",
    "    'AMD A10-Series 9620P 2.5GHz': (4, 2.5),\n",
    "    'AMD E-Series 7110 1.8GHz': (4, 1.8),\n",
    "    'Intel Celeron Dual Core N3350 2.0GHz': (2, 2.0),\n",
    "    'AMD A9-Series A9-9420 3GHz': (2, 3.0),\n",
    "    'Intel Core i7 6820HK 2.7GHz': (4, 2.7),\n",
    "    'Intel Core M 7Y30 1.0GHz': (2, 1.0),\n",
    "    'Intel Xeon E3-1535M v6 3.1GHz': (4, 3.1),\n",
    "    'Intel Celeron Quad Core N3160 1.6GHz': (4, 1.6),\n",
    "    'Intel Core i5 6300U 2.4GHz': (2, 2.4),\n",
    "    'Intel Core i3 6100U 2.1GHz': (2, 2.1),\n",
    "    'AMD E-Series E2-9000 2.2GHz': (2, 2.2),\n",
    "    'Intel Celeron Dual Core N3050 1.6GHz': (2, 1.6),\n",
    "    'Intel Core M M3-6Y30 0.9GHz': (2, 0.9),\n",
    "    'AMD A9-Series 9420 2.9GHz': (2, 2.9),\n",
    "    'Intel Core i5 6300HQ 2.3GHz': (4, 2.3),\n",
    "    'AMD A6-Series 7310 2GHz': (4, 2.0),\n",
    "    'Intel Atom Z8350 1.92GHz': (4, 1.92),\n",
    "    'Intel Xeon E3-1535M v5 2.9GHz': (4, 2.9),\n",
    "    'Intel Core i5 6260U 1.8GHz': (2, 1.8),\n",
    "    'Intel Pentium Dual Core N4200 1.1GHz': (4, 1.1),\n",
    "    'Intel Celeron Quad Core N3710 1.6GHz': (4, 1.6),\n",
    "    'Intel Core M 1.2GHz': (2, 1.2),\n",
    "    'AMD A12-Series 9700P 2.5GHz': (4, 2.5),\n",
    "    'Intel Core i7 7500U 2.5GHz': (2, 2.5),\n",
    "    'Intel Pentium Dual Core 4405U 2.1GHz': (2, 2.1),\n",
    "    'AMD A4-Series 7210 2.2GHz': (4, 2.2),\n",
    "    'Intel Core i7 6560U 2.2GHz': (2, 2.2),\n",
    "    'Intel Core M m7-6Y75 1.2GHz': (2, 1.2),\n",
    "    'AMD FX 8800P 2.1GHz': (4, 2.1),\n",
    "    'Intel Core M M7-6Y75 1.2GHz': (2, 1.2),\n",
    "    'Intel Core i5 7200U 2.50GHz': (2, 2.5),\n",
    "    'Intel Core i5 7200U 2.70GHz': (2, 2.7),\n",
    "    'Intel Atom X5-Z8350 1.44GHz': (4, 1.44),\n",
    "    'Intel Core M 1.1GHz': (2, 1.1),\n",
    "    'Intel Pentium Dual Core 4405Y 1.5GHz': (2, 1.5),\n",
    "    'Intel Pentium Quad Core N3700 1.6GHz': (4, 1.6),\n",
    "    'Intel Core M 6Y54 1.1GHz': (2, 1.1),\n",
    "    'Intel Core i7 6500U 2.50GHz': (2, 2.5),\n",
    "    'Intel Celeron Dual Core N3350 2GHz': (2, 2.0),\n",
    "    'Samsung Cortex A72&A53 2.0GHz': (2, 2.0),\n",
    "    'AMD E-Series 9000 2.2GHz': (2, 2.2),\n",
    "    'Intel Core M 6Y30 0.9GHz': (2, 0.9),\n",
    "    'AMD A9-Series 9410 2.9GHz': (2, 2.9),\n",
    "    'Intel Pentium Quad Core N4200 1.1GHz': (4, 1.1),\n",
    "    'Intel Atom x5-Z8550 1.44GHz': (4, 1.44),\n",
    "    'Intel Celeron Dual Core N3060 1.6GHz': (2, 1.6),\n",
    "    'Intel Core i5 1.3GHz': (2, 1.3),\n",
    "    'Intel Core i5 7200U 2.7GHz': (2, 2.7),\n",
    "    }"
   ]
  },
  {
   "cell_type": "code",
   "execution_count": 9,
   "metadata": {},
   "outputs": [],
   "source": [
    "def column_cpu (df):\n",
    "    df['Kernels'] = df['CPU'].map(lambda x: specs[x][0])\n",
    "    df['GHz'] = df['CPU'].map(lambda x: specs[x][1])\n",
    "    df['Kernels'] = df['Kernels'].astype(int)\n",
    "    df['GHz'] = df['GHz'].astype(float)\n",
    "    df = df.drop('CPU', axis=1)\n",
    "\n",
    "column_cpu (alldata)\n",
    "alldata = alldata.drop('CPU', axis=1)\n",
    "alldata['Kernels'] = alldata['Kernels'].astype(int)"
   ]
  },
  {
   "cell_type": "code",
   "execution_count": 10,
   "metadata": {},
   "outputs": [],
   "source": [
    "def column_ram (df):\n",
    "    df['RAM'] = df['RAM'].str.replace(r'\\D', '', regex=True)\n",
    "    df['RAM'] = df['RAM'].astype(int)\n",
    "    df = train.rename(columns={'RAM': 'RAM(GB)'})\n",
    "\n",
    "column_ram (alldata)\n",
    "alldata['RAM'] = alldata['RAM'].astype(int)"
   ]
  },
  {
   "cell_type": "code",
   "execution_count": 11,
   "metadata": {},
   "outputs": [],
   "source": [
    "alldata = alldata.rename(columns={' Storage': 'Storage'})\n",
    "pattern_storage = r'(\\d+)(TB|GB)'\n",
    "    \n",
    "def convert_storage(storage):\n",
    "    match = re.match(pattern_storage, storage)\n",
    "    if match:\n",
    "        size = int(match.group(1))\n",
    "        unit = match.group(2)\n",
    "        if unit == 'TB':\n",
    "            size *= 1024\n",
    "        return size\n",
    "    return None\n",
    "\n",
    "alldata['Storage'] = alldata['Storage'].apply(convert_storage)"
   ]
  },
  {
   "cell_type": "code",
   "execution_count": 12,
   "metadata": {},
   "outputs": [],
   "source": [
    "for index, value in enumerate(alldata['Operating System']):\n",
    "    if value == 'macOS':\n",
    "        alldata.loc[index, 'Operating System'] = 'Mac OS'\n",
    "    elif value == 'Android':\n",
    "        alldata.loc[index, 'Operating System'] = 'Windows'\n",
    "\n",
    "    \n",
    "alldata = alldata.drop('Operating System Version', axis=1)\n"
   ]
  },
  {
   "cell_type": "code",
   "execution_count": 13,
   "metadata": {},
   "outputs": [],
   "source": [
    "def column_weight (df):\n",
    "    df['Weight'] = df['Weight'].str.replace(r'\\D', '', regex=True)\n",
    "    df['Weight'] = df['Weight'].astype(float)\n",
    "\n",
    "column_weight (alldata)"
   ]
  },
  {
   "cell_type": "code",
   "execution_count": 14,
   "metadata": {},
   "outputs": [],
   "source": [
    "category_getdummies = pd.get_dummies(alldata[\"Category\"])\n",
    "gpu_getdummies = pd.get_dummies(alldata[\"GPU\"])\n",
    "operatingsystem_getdummies = pd.get_dummies(alldata[\"Operating System\"])\n",
    "alldata = pd.concat([alldata, category_getdummies,operatingsystem_getdummies,gpu_getdummies ], axis=1)"
   ]
  },
  {
   "cell_type": "code",
   "execution_count": 15,
   "metadata": {},
   "outputs": [],
   "source": [
    "alldata = alldata.drop('Manufacturer', axis=1)\n",
    "alldata = alldata.drop('Model Name', axis=1)\n",
    "alldata = alldata.drop('Category', axis=1)\n",
    "alldata = alldata.drop('Operating System', axis=1)\n",
    "alldata = alldata.drop('GPU', axis=1)\n",
    "alldata = alldata.drop('Screen', axis=1)"
   ]
  },
  {
   "cell_type": "code",
   "execution_count": 16,
   "metadata": {},
   "outputs": [],
   "source": [
    "new_test = alldata.tail(325)\n",
    "new_train = alldata.head(977)"
   ]
  },
  {
   "cell_type": "code",
   "execution_count": null,
   "metadata": {},
   "outputs": [],
   "source": [
    "# new_test = new_test.drop('Price', axis=1)"
   ]
  },
  {
   "cell_type": "code",
   "execution_count": null,
   "metadata": {},
   "outputs": [],
   "source": [
    "# new_test = new_test.dropna(0)"
   ]
  },
  {
   "attachments": {},
   "cell_type": "markdown",
   "metadata": {},
   "source": [
    "# SEGUNDA PARTE"
   ]
  },
  {
   "cell_type": "code",
   "execution_count": null,
   "metadata": {},
   "outputs": [],
   "source": [
    "''' \n",
    "columnas = new_train.columns[:14].tolist()\n",
    "\n",
    "# Calcular la matriz de correlación para las columnas seleccionadas\n",
    "corr_matrix = new_train[columnas + ['Price']].corr()\n",
    "\n",
    "plt.figure(figsize=(15, 10))\n",
    "sns.set(style='white')\n",
    "mask = np.triu(np.ones_like(corr_matrix, dtype=bool))\n",
    "cmap = sns.diverging_palette(0, 10, as_cmap=True)\n",
    "\n",
    "sns.heatmap(corr_matrix,\n",
    "            mask=mask,\n",
    "            cmap=cmap,\n",
    "            center=0,\n",
    "            square=True,\n",
    "            annot=True,\n",
    "            linewidths=0.5,\n",
    "            cbar_kws={'shrink': 0.5})\n",
    "\n",
    "plt.show()\n",
    "\n",
    "'''"
   ]
  },
  {
   "cell_type": "code",
   "execution_count": null,
   "metadata": {},
   "outputs": [],
   "source": [
    "''' \n",
    "# Reducir caracteristicas\n",
    "reduc=umap.UMAP(n_components=2).fit_transform(data)\n",
    "\n",
    "reduc.shape\n",
    "\n",
    "'''"
   ]
  },
  {
   "cell_type": "code",
   "execution_count": null,
   "metadata": {},
   "outputs": [],
   "source": [
    "''' \n",
    "# Normalizar\n",
    "X_norm=StandardScaler().fit_transform(X)  # normalizacion N(0,1)\n",
    "\n",
    "linreg=LinReg().fit(X_norm, y)\n",
    "\n",
    "dict(zip(X.columns, linreg.coef_))\n",
    "\n",
    "'''"
   ]
  },
  {
   "attachments": {},
   "cell_type": "markdown",
   "metadata": {},
   "source": [
    "#### LINEAR REGRESSION"
   ]
  },
  {
   "cell_type": "code",
   "execution_count": null,
   "metadata": {},
   "outputs": [],
   "source": [
    "X_train = new_train.drop('Price', axis=1)  # Elimina la columna 'Price' del DataFrame de entrenamiento para obtener las características de entrenamiento\n",
    "y_train = new_train['Price']  # Obtiene la columna 'Price' como las etiquetas de entrenamiento\n",
    "X_test = new_test  # Usa el DataFrame de prueba completo como características de prueba"
   ]
  },
  {
   "cell_type": "code",
   "execution_count": null,
   "metadata": {},
   "outputs": [],
   "source": [
    "# y_test = new_test['Price']"
   ]
  },
  {
   "cell_type": "code",
   "execution_count": null,
   "metadata": {},
   "outputs": [],
   "source": [
    "model = LinearRegression()\n",
    "model.fit(X_train, y_train)\n",
    "y_pred = model.predict(X_test)"
   ]
  },
  {
   "cell_type": "code",
   "execution_count": null,
   "metadata": {},
   "outputs": [],
   "source": [
    "mse = mse(y_train,y_pred)\n",
    "print(\"Error cuadrático medio:\", mse)\n"
   ]
  },
  {
   "cell_type": "code",
   "execution_count": null,
   "metadata": {},
   "outputs": [],
   "source": []
  },
  {
   "cell_type": "code",
   "execution_count": null,
   "metadata": {},
   "outputs": [],
   "source": []
  },
  {
   "cell_type": "code",
   "execution_count": null,
   "metadata": {},
   "outputs": [],
   "source": []
  }
 ],
 "metadata": {
  "kernelspec": {
   "display_name": "base",
   "language": "python",
   "name": "python3"
  },
  "language_info": {
   "codemirror_mode": {
    "name": "ipython",
    "version": 3
   },
   "file_extension": ".py",
   "mimetype": "text/x-python",
   "name": "python",
   "nbconvert_exporter": "python",
   "pygments_lexer": "ipython3",
   "version": "3.9.13"
  },
  "orig_nbformat": 4
 },
 "nbformat": 4,
 "nbformat_minor": 2
}
