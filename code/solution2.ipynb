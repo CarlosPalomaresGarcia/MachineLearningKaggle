{
 "cells": [
  {
   "cell_type": "code",
   "execution_count": 2,
   "metadata": {},
   "outputs": [],
   "source": [
    "import pandas as pd\n",
    "import numpy as np\n",
    "\n",
    "import pylab as plt\n",
    "import seaborn as sns\n",
    "\n",
    "import re\n",
    "\n",
    "from sklearn.model_selection import train_test_split as tts\n",
    "\n",
    "\n",
    "from sklearn.linear_model import LinearRegression\n",
    "from sklearn.metrics import mean_squared_error\n",
    "from sklearn.preprocessing import StandardScaler"
   ]
  },
  {
   "cell_type": "code",
   "execution_count": 3,
   "metadata": {},
   "outputs": [],
   "source": [
    "train = pd.read_csv(r'train.csv')\n",
    "test = pd.read_csv(r'test.csv')\n",
    "sample = pd.read_csv(r'muestra.csv')"
   ]
  },
  {
   "cell_type": "code",
   "execution_count": 4,
   "metadata": {},
   "outputs": [],
   "source": [
    "alldata = pd.concat([train,test], axis=0)"
   ]
  },
  {
   "cell_type": "code",
   "execution_count": 5,
   "metadata": {},
   "outputs": [],
   "source": [
    "alldata['Touchscreen'] = alldata['Screen'].apply(lambda x: 0 if 'Touch' in x else 1)\n",
    "alldata['Touchscreen'] = alldata['Touchscreen'].astype(int)"
   ]
  },
  {
   "cell_type": "code",
   "execution_count": 6,
   "metadata": {},
   "outputs": [],
   "source": [
    "pattern_screen = r'(\\d+x\\d+)'\n",
    "alldata['Screen'] = df['Screen'].str.extract(pattern_screen)"
   ]
  },
  {
   "cell_type": "code",
   "execution_count": 7,
   "metadata": {},
   "outputs": [],
   "source": [
    "alldata['Screen Size'].unique()\n",
    "alldata['Screen Size'] = alldata['Screen Size'].str.replace('\"', '')\n",
    "alldata['Screen Size'] = alldata['Screen Size'].astype(float)"
   ]
  },
  {
   "cell_type": "code",
   "execution_count": 8,
   "metadata": {},
   "outputs": [],
   "source": [
    "specs = {'Intel Core i5 2.3GHz': (2, 2.3),\n",
    "    'Intel Core i5 1.8GHz': (2, 1.8),\n",
    "    'Intel Core i5 7200U 2.5GHz': (2, 2.5),\n",
    "    'Intel Core i7 2.7GHz': (4, 2.7),\n",
    "    'Intel Core i5 3.1GHz': (4, 3.1),\n",
    "    'AMD A9-Series 9420 3GHz': (2, 3.0),\n",
    "    'Intel Core i7 2.2GHz': (4, 2.2),\n",
    "    'Intel Core i7 8550U 1.8GHz': (4, 1.8),\n",
    "    'Intel Core i5 8250U 1.6GHz': (4, 1.6),\n",
    "    'Intel Core i3 6006U 2GHz': (2, 2.0),\n",
    "    'Intel Core i7 2.8GHz': (4, 2.8),\n",
    "    'Intel Core M m3 1.2GHz': (2, 1.2),\n",
    "    'Intel Core i7 7500U 2.7GHz': (2, 2.7),\n",
    "    'Intel Core i7 2.9GHz': (4, 2.9),\n",
    "    'Intel Core i3 7100U 2.4GHz': (2, 2.4),\n",
    "    'Intel Atom x5-Z8350 1.44GHz': (4, 1.44),\n",
    "    'Intel Core i5 7300HQ 2.5GHz': (4, 2.5),\n",
    "    'AMD E-Series E2-9000e 1.5GHz': (2, 1.5),\n",
    "    'Intel Core i5 1.6GHz': (4, 1.6),\n",
    "    'Intel Core i7 8650U 1.9GHz': (4, 1.9),\n",
    "    'Intel Atom x5-Z8300 1.44GHz': (4, 1.44),\n",
    "    'AMD E-Series E2-6110 1.5GHz': (4, 1.5),\n",
    "    'AMD A6-Series 9220 2.5GHz': (2, 2.5),\n",
    "    'Intel Celeron Dual Core N3350 1.1GHz': (2, 1.1),\n",
    "    'Intel Core i3 7130U 2.7GHz': (2, 2.7),\n",
    "    'Intel Core i7 7700HQ 2.8GHz': (4, 2.8),\n",
    "    'Intel Core i5 2.0GHz': (4, 2.0),\n",
    "    'AMD Ryzen 1700 3GHz': (8, 3.0),\n",
    "    'AMD FX 9830P 3GHz': (4, 3.0),\n",
    "    'Intel Core i7 7560U 2.4GHz': (2, 2.4),\n",
    "    'AMD E-Series 6110 1.5GHz': (4, 1.5),\n",
    "    'Intel Core i5 6200U 2.3GHz': (2, 2.3),\n",
    "    'Intel Core M 6Y75 1.2GHz': (2, 1.2),\n",
    "    'Intel Core i5 7500U 2.7GHz': (2, 2.7),\n",
    "    'Intel Core i3 6006U 2.2GHz': (2, 2.2),\n",
    "    'AMD A6-Series 9220 2.9GHz': (2, 2.9),\n",
    "    'Intel Core i7 6920HQ 2.9GHz': (4, 2.9),\n",
    "    'Intel Core i5 7Y54 1.2GHz': (2, 1.2),\n",
    "    'Intel Core i7 7820HK 2.9GHz': (4, 2.9),\n",
    "    'Intel Xeon E3-1505M V6 3GHz': (4, 3.0),\n",
    "    'Intel Core i7 6500U 2.5GHz': (2, 2.5),\n",
    "    'AMD E-Series 9000e 1.5GHz': (2, 1.5),\n",
    "    'Intel Core i5 2.3GHz': (2, 2.3),\n",
    "    'Intel Core i5 1.8GHz': (2, 1.8),\n",
    "    'Intel Core i5 7200U 2.5GHz': (2, 2.5),\n",
    "    'Intel Core i7 2.7GHz': (4, 2.7),\n",
    "    'Intel Core i5 3.1GHz': (4, 3.1),\n",
    "    'AMD A9-Series 9420 3GHz': (2, 3.0),\n",
    "    'Intel Core i7 2.2GHz': (4, 2.2),\n",
    "    'Intel Core i7 8550U 1.8GHz': (4, 1.8),\n",
    "    'Intel Core i5 8250U 1.6GHz': (4, 1.6),\n",
    "    'Intel Core i3 6006U 2GHz': (2, 2.0),\n",
    "    'Intel Core i7 2.8GHz': (4, 2.8),\n",
    "    'Intel Core M m3 1.2GHz': (2, 1.2),\n",
    "    'Intel Core i7 7500U 2.7GHz': (2, 2.7),\n",
    "    'Intel Core i7 2.9GHz': (4, 2.9),\n",
    "    'Intel Core i3 7100U 2.4GHz': (2, 2.4),\n",
    "    'Intel Atom x5-Z8350 1.44GHz': (4, 1.44),\n",
    "    'Intel Core i5 7300HQ 2.5GHz': (4, 2.5),\n",
    "    'AMD E-Series E2-9000e 1.5GHz': (2, 1.5),\n",
    "    'Intel Core i5 1.6GHz': (4, 1.6),\n",
    "    'Intel Core i7 8650U 1.9GHz': (4, 1.9),\n",
    "    'Intel Atom x5-Z8300 1.44GHz': (4, 1.44),\n",
    "    'AMD E-Series E2-6110 1.5GHz': (4, 1.5),\n",
    "    'AMD A6-Series 9220 2.5GHz': (2, 2.5),\n",
    "    'Intel Celeron Dual Core N3350 1.1GHz': (2, 1.1),\n",
    "    'Intel Core i3 7130U 2.7GHz': (2, 2.7),\n",
    "    'Intel Core i7 7700HQ 2.8GHz': (4, 2.8),\n",
    "    'Intel Core i5 2.0GHz': (4, 2.0),\n",
    "    'AMD Ryzen 1700 3GHz': (8, 3.0),\n",
    "    'AMD FX 9830P 3GHz': (4, 3.0),\n",
    "    'Intel Core i7 7560U 2.4GHz': (2, 2.4),\n",
    "    'AMD E-Series 6110 1.5GHz': (4, 1.5),\n",
    "    'Intel Core i5 6200U 2.3GHz': (2, 2.3),\n",
    "    'Intel Core M 6Y75 1.2GHz': (2, 1.2),\n",
    "    'Intel Core i5 7500U 2.7GHz': (2, 2.7),\n",
    "    'Intel Core i3 6006U 2.2GHz': (2, 2.2),\n",
    "    'AMD A6-Series 9220 2.9GHz': (2, 2.9),\n",
    "    'Intel Core i7 6920HQ 2.9GHz': (4, 2.9),\n",
    "    'Intel Core i5 7Y54 1.2GHz': (2, 1.2),\n",
    "    'Intel Core i7 7820HK 2.9GHz': (4, 2.9),\n",
    "    'Intel Xeon E3-1505M V6 3GHz': (4, 3.0),\n",
    "    'Intel Core i7 6500U 2.5GHz': (2, 2.5),\n",
    "    'AMD E-Series 9000e 1.5GHz': (2, 1.5),\n",
    "    'AMD A10-Series A10-9620P 2.5GHz': (4, 2.5),\n",
    "    'AMD A6-Series A6-9220 2.5GHz': (2, 2.5),\n",
    "    'Intel Core i5 2.9GHz': (4, 2.9),\n",
    "    'Intel Core i7 6600U 2.6GHz': (2, 2.6),\n",
    "    'Intel Core i3 6006U 2.0GHz': (2, 2.0),\n",
    "    'Intel Celeron Dual Core 3205U 1.5GHz': (2, 1.5),\n",
    "    'Intel Core i7 7820HQ 2.9GHz': (4, 2.9),\n",
    "    'AMD A10-Series 9600P 2.4GHz': (4, 2.4),\n",
    "    'Intel Core i7 7600U 2.8GHz': (2, 2.8),\n",
    "    'AMD A8-Series 7410 2.2GHz': (4, 2.2),\n",
    "    'Intel Celeron Dual Core 3855U 1.6GHz': (2, 1.6),\n",
    "    'Intel Pentium Quad Core N3710 1.6GHz': (4, 1.6),\n",
    "    'AMD A12-Series 9720P 2.7GHz': (4, 2.7),\n",
    "    'Intel Core i5 7300U 2.6GHz': (2, 2.6),\n",
    "    'AMD A12-Series 9720P 3.6GHz': (4, 3.6),\n",
    "    'Intel Celeron Quad Core N3450 1.1GHz': (4, 1.1),\n",
    "    'Intel Celeron Dual Core N3060 1.60GHz': (2, 1.6),\n",
    "    'Intel Core i5 6440HQ 2.6GHz': (4, 2.6),\n",
    "    'Intel Core i7 6820HQ 2.7GHz': (4, 2.7),\n",
    "    'AMD Ryzen 1600 3.2GHz': (6, 3.2),\n",
    "    'Intel Core i7 7Y75 1.3GHz': (2, 1.3),\n",
    "    'Intel Core i5 7440HQ 2.8GHz': (4, 2.8),\n",
    "    'Intel Core i7 7660U 2.5GHz': (2, 2.5),\n",
    "    'Intel Core i7 7700HQ 2.7GHz': (4, 2.7),\n",
    "    'Intel Core M m3-7Y30 2.2GHz': (2, 2.2),\n",
    "    'Intel Core i5 7Y57 1.2GHz': (2, 1.2),\n",
    "    'Intel Core i7 6700HQ 2.6GHz': (4, 2.6),\n",
    "    'Intel Core i3 6100U 2.3GHz': (2, 2.3),\n",
    "    'AMD A10-Series 9620P 2.5GHz': (4, 2.5),\n",
    "    'AMD E-Series 7110 1.8GHz': (4, 1.8),\n",
    "    'Intel Celeron Dual Core N3350 2.0GHz': (2, 2.0),\n",
    "    'AMD A9-Series A9-9420 3GHz': (2, 3.0),\n",
    "    'Intel Core i7 6820HK 2.7GHz': (4, 2.7),\n",
    "    'Intel Core M 7Y30 1.0GHz': (2, 1.0),\n",
    "    'Intel Xeon E3-1535M v6 3.1GHz': (4, 3.1),\n",
    "    'Intel Celeron Quad Core N3160 1.6GHz': (4, 1.6),\n",
    "    'Intel Core i5 6300U 2.4GHz': (2, 2.4),\n",
    "    'Intel Core i3 6100U 2.1GHz': (2, 2.1),\n",
    "    'AMD E-Series E2-9000 2.2GHz': (2, 2.2),\n",
    "    'Intel Celeron Dual Core N3050 1.6GHz': (2, 1.6),\n",
    "    'Intel Core M M3-6Y30 0.9GHz': (2, 0.9),\n",
    "    'AMD A9-Series 9420 2.9GHz': (2, 2.9),\n",
    "    'Intel Core i5 6300HQ 2.3GHz': (4, 2.3),\n",
    "    'AMD A6-Series 7310 2GHz': (4, 2.0),\n",
    "    'Intel Atom Z8350 1.92GHz': (4, 1.92),\n",
    "    'Intel Xeon E3-1535M v5 2.9GHz': (4, 2.9),\n",
    "    'Intel Core i5 6260U 1.8GHz': (2, 1.8),\n",
    "    'Intel Pentium Dual Core N4200 1.1GHz': (4, 1.1),\n",
    "    'Intel Celeron Quad Core N3710 1.6GHz': (4, 1.6),\n",
    "    'Intel Core M 1.2GHz': (2, 1.2),\n",
    "    'AMD A12-Series 9700P 2.5GHz': (4, 2.5),\n",
    "    'Intel Core i7 7500U 2.5GHz': (2, 2.5),\n",
    "    'Intel Pentium Dual Core 4405U 2.1GHz': (2, 2.1),\n",
    "    'AMD A4-Series 7210 2.2GHz': (4, 2.2),\n",
    "    'Intel Core i7 6560U 2.2GHz': (2, 2.2),\n",
    "    'Intel Core M m7-6Y75 1.2GHz': (2, 1.2),\n",
    "    'AMD FX 8800P 2.1GHz': (4, 2.1),\n",
    "    'Intel Core M M7-6Y75 1.2GHz': (2, 1.2),\n",
    "    'Intel Core i5 7200U 2.50GHz': (2, 2.5),\n",
    "    'Intel Core i5 7200U 2.70GHz': (2, 2.7),\n",
    "    'Intel Atom X5-Z8350 1.44GHz': (4, 1.44),\n",
    "    'Intel Core M 1.1GHz': (2, 1.1),\n",
    "    'Intel Pentium Dual Core 4405Y 1.5GHz': (2, 1.5),\n",
    "    'Intel Pentium Quad Core N3700 1.6GHz': (4, 1.6),\n",
    "    'Intel Core M 6Y54 1.1GHz': (2, 1.1),\n",
    "    'Intel Core i7 6500U 2.50GHz': (2, 2.5),\n",
    "    'Intel Celeron Dual Core N3350 2GHz': (2, 2.0),\n",
    "    'Samsung Cortex A72&A53 2.0GHz': (2, 2.0),\n",
    "    'AMD E-Series 9000 2.2GHz': (2, 2.2),\n",
    "    'Intel Core M 6Y30 0.9GHz': (2, 0.9),\n",
    "    'AMD A9-Series 9410 2.9GHz': (2, 2.9),\n",
    "    'Intel Pentium Quad Core N4200 1.1GHz': (4, 1.1),\n",
    "    'Intel Atom x5-Z8550 1.44GHz': (4, 1.44),\n",
    "    'Intel Celeron Dual Core N3060 1.6GHz': (2, 1.6),\n",
    "    'Intel Core i5 1.3GHz': (2, 1.3),\n",
    "    'Intel Core i5 7200U 2.7GHz': (2, 2.7),\n",
    "    }"
   ]
  },
  {
   "cell_type": "code",
   "execution_count": 9,
   "metadata": {},
   "outputs": [],
   "source": [
    "\n",
    "alldata['Kernels'] = alldatadf['CPU'].map(lambda x: specs[x][0])\n",
    "alldata['GHz'] = alldata['CPU'].map(lambda x: specs[x][1])\n",
    "alldata['Kernels'] = alldata['Kernels'].astype(int)\n",
    "alldata['GHz'] = alldata['GHz'].astype(float)\n",
    "alldata = alldata.drop('CPU', axis=1)\n"
   ]
  },
  {
   "cell_type": "code",
   "execution_count": 10,
   "metadata": {},
   "outputs": [],
   "source": [
    "alldata['RAM'] = alldata['RAM'].str.replace(r'\\D', '', regex=True)\n",
    "alldata['RAM'] = alldata['RAM'].astype(int)\n",
    "alldata = train.rename(columns={'RAM': 'RAM(GB)'})"
   ]
  },
  {
   "cell_type": "code",
   "execution_count": 11,
   "metadata": {},
   "outputs": [],
   "source": [
    "alldata = alldata.rename(columns={' Storage': 'Storage'})\n",
    "pattern_storage = r'(\\d+)(TB|GB)'\n",
    "    \n",
    "def convert_storage(storage):\n",
    "    match = re.match(pattern_storage, storage)\n",
    "    if match:\n",
    "        size = int(match.group(1))\n",
    "        unit = match.group(2)\n",
    "        if unit == 'TB':\n",
    "            size *= 1024\n",
    "        return size\n",
    "    return None\n",
    "\n",
    "alldata['Storage'] = alldata['Storage'].apply(convert_storage)"
   ]
  },
  {
   "cell_type": "code",
   "execution_count": 12,
   "metadata": {},
   "outputs": [],
   "source": [
    "for index, value in enumerate(alldata['Operating System']):\n",
    "    if value == 'macOS':\n",
    "        alldata.loc[index, 'Operating System'] = 'Mac OS'\n",
    "    elif value == 'Android':\n",
    "        alldata.loc[index, 'Operating System'] = 'Windows'\n",
    "\n",
    "    \n",
    "alldata = alldata.drop('Operating System Version', axis=1)\n"
   ]
  },
  {
   "cell_type": "code",
   "execution_count": 13,
   "metadata": {},
   "outputs": [],
   "source": [
    "alldata['Weight'] = alldata['Weight'].str.replace(r'\\D', '', regex=True)\n",
    "alldata['Weight'] = alldata['Weight'].astype(float)"
   ]
  },
  {
   "cell_type": "code",
   "execution_count": 14,
   "metadata": {},
   "outputs": [],
   "source": [
    "# alldata['GPU'] = alldata['GPU'].str.split().str[0]"
   ]
  },
  {
   "cell_type": "code",
   "execution_count": 15,
   "metadata": {},
   "outputs": [],
   "source": [
    "category_getdummies = pd.get_dummies(alldata[\"Category\"])\n",
    "gpu_getdummies = pd.get_dummies(alldata[\"GPU\"])\n",
    "operatingsystem_getdummies = pd.get_dummies(alldata[\"Operating System\"])\n",
    "screen_getdummies = pd.get_dummies(alldata[\"Screen\"])\n",
    "alldata = pd.concat([alldata, category_getdummies,operatingsystem_getdummies,gpu_getdummies,screen_getdummies ], axis=1)"
   ]
  },
  {
   "cell_type": "code",
   "execution_count": 16,
   "metadata": {},
   "outputs": [],
   "source": [
    "alldata = alldata.drop('Manufacturer', axis=1)\n",
    "alldata = alldata.drop('Model Name', axis=1)\n",
    "alldata = alldata.drop('Category', axis=1)\n",
    "alldata = alldata.drop('Operating System', axis=1)\n",
    "alldata = alldata.drop('GPU', axis=1)\n",
    "alldata = alldata.drop('Screen', axis=1)\n",
    "alldata = alldata.drop('Touchscreen', axis=1)"
   ]
  },
  {
   "cell_type": "code",
   "execution_count": 17,
   "metadata": {},
   "outputs": [],
   "source": [
    "new_test = alldata.tail(325)\n",
    "new_train = alldata.head(977)"
   ]
  },
  {
   "attachments": {},
   "cell_type": "markdown",
   "metadata": {},
   "source": [
    "#### CALCULATE MEAN SQUARED ERROR"
   ]
  },
  {
   "cell_type": "code",
   "execution_count": 18,
   "metadata": {},
   "outputs": [],
   "source": [
    "from sklearn.tree import DecisionTreeRegressor\n",
    "from sklearn.ensemble import RandomForestRegressor\n",
    "\n",
    "\n",
    "# Dividir los datos en características (X) y etiquetas (y)\n",
    "X = new_train.drop('Price', axis=1) \n",
    "y = new_train['Price']\n",
    "\n",
    "# Dividir los datos en conjuntos de entrenamiento y prueba\n",
    "X_train, X_test, y_train, y_test = tts(X, y, test_size=0.2, random_state=42)\n",
    "\n",
    "# Calcular MSE para cada modelo\n",
    "linear_model = LinearRegression()\n",
    "linear_model.fit(X_train, y_train)\n",
    "linear_pred = linear_model.predict(X_test)\n",
    "linear_mse = mean_squared_error(y_test, linear_pred)\n",
    "\n",
    "\n",
    "tree_model = DecisionTreeRegressor()\n",
    "tree_model.fit(X_train, y_train)\n",
    "tree_pred = tree_model.predict(X_test)\n",
    "tree_mse = mean_squared_error(y_test, tree_pred)\n",
    "\n",
    "\n",
    "forest_model = RandomForestRegressor()\n",
    "forest_model.fit(X_train, y_train)\n",
    "forest_pred = forest_model.predict(X_test)\n",
    "forest_mse = mean_squared_error(y_test, forest_pred)"
   ]
  },
  {
   "attachments": {},
   "cell_type": "markdown",
   "metadata": {},
   "source": [
    "#### CALCULATE R2"
   ]
  },
  {
   "cell_type": "code",
   "execution_count": 19,
   "metadata": {},
   "outputs": [],
   "source": [
    "from sklearn.metrics import r2_score\n",
    "\n",
    "# Calcular r cuadrado para cada modelo\n",
    "\n",
    "linear_r2 = r2_score(y_test, linear_pred)\n",
    "\n",
    "tree_r2 = r2_score(y_test, tree_pred)\n",
    "\n",
    "forest_r2 = r2_score(y_test, forest_pred)\n"
   ]
  },
  {
   "cell_type": "code",
   "execution_count": 20,
   "metadata": {},
   "outputs": [
    {
     "name": "stdout",
     "output_type": "stream",
     "text": [
      "Linear Regression: MSE-> 3.744243053297543e+28   R cuadrado-> -1035602586067962.6\n",
      "Decision Tree:     MSE-> 13731644594799.889       R cuadrado-> 0.6202028967960036\n",
      "Random Forest:     MSE-> 7754525844839.503        R cuadrado-> 0.785521214719912\n"
     ]
    }
   ],
   "source": [
    "print('Linear Regression: MSE->',linear_mse,'  R cuadrado->',linear_r2)\n",
    "print('Decision Tree:     MSE->',tree_mse,'      R cuadrado->',tree_r2)\n",
    "print('Random Forest:     MSE->',forest_mse,'       R cuadrado->',forest_r2)"
   ]
  },
  {
   "attachments": {},
   "cell_type": "markdown",
   "metadata": {},
   "source": [
    "I will use the Random Forest Model."
   ]
  },
  {
   "cell_type": "code",
   "execution_count": 21,
   "metadata": {},
   "outputs": [
    {
     "name": "stderr",
     "output_type": "stream",
     "text": [
      "C:\\Users\\carlo\\AppData\\Local\\Temp\\ipykernel_15760\\631959807.py:1: SettingWithCopyWarning: \n",
      "A value is trying to be set on a copy of a slice from a DataFrame\n",
      "\n",
      "See the caveats in the documentation: https://pandas.pydata.org/pandas-docs/stable/user_guide/indexing.html#returning-a-view-versus-a-copy\n",
      "  new_test.fillna(0, inplace = True)\n"
     ]
    }
   ],
   "source": [
    "new_test.fillna(0, inplace = True)"
   ]
  },
  {
   "cell_type": "code",
   "execution_count": 22,
   "metadata": {},
   "outputs": [],
   "source": [
    "X = new_test.drop(['Price'], axis = 1)\n",
    "y = new_test['Price']"
   ]
  },
  {
   "cell_type": "code",
   "execution_count": 23,
   "metadata": {},
   "outputs": [],
   "source": [
    "prediction_randomforest = forest_model.predict(X)"
   ]
  },
  {
   "cell_type": "code",
   "execution_count": 24,
   "metadata": {},
   "outputs": [
    {
     "name": "stderr",
     "output_type": "stream",
     "text": [
      "C:\\Users\\carlo\\AppData\\Local\\Temp\\ipykernel_15760\\2976393421.py:1: SettingWithCopyWarning: \n",
      "A value is trying to be set on a copy of a slice from a DataFrame.\n",
      "Try using .loc[row_indexer,col_indexer] = value instead\n",
      "\n",
      "See the caveats in the documentation: https://pandas.pydata.org/pandas-docs/stable/user_guide/indexing.html#returning-a-view-versus-a-copy\n",
      "  new_test['Price'] = prediction_randomforest\n"
     ]
    }
   ],
   "source": [
    "new_test['Price'] = prediction_randomforest"
   ]
  },
  {
   "cell_type": "code",
   "execution_count": 25,
   "metadata": {},
   "outputs": [
    {
     "name": "stderr",
     "output_type": "stream",
     "text": [
      "C:\\Users\\carlo\\AppData\\Local\\Temp\\ipykernel_15760\\3778254897.py:1: SettingWithCopyWarning: \n",
      "A value is trying to be set on a copy of a slice from a DataFrame.\n",
      "Try using .loc[row_indexer,col_indexer] = value instead\n",
      "\n",
      "See the caveats in the documentation: https://pandas.pydata.org/pandas-docs/stable/user_guide/indexing.html#returning-a-view-versus-a-copy\n",
      "  new_test['id'] = range (0, len(new_test))\n"
     ]
    }
   ],
   "source": [
    "new_test['id'] = range (0, len(new_test))"
   ]
  },
  {
   "cell_type": "code",
   "execution_count": 26,
   "metadata": {},
   "outputs": [],
   "source": [
    "solution = new_test[['id', 'Price']]"
   ]
  },
  {
   "cell_type": "code",
   "execution_count": 27,
   "metadata": {},
   "outputs": [
    {
     "data": {
      "text/html": [
       "<div>\n",
       "<style scoped>\n",
       "    .dataframe tbody tr th:only-of-type {\n",
       "        vertical-align: middle;\n",
       "    }\n",
       "\n",
       "    .dataframe tbody tr th {\n",
       "        vertical-align: top;\n",
       "    }\n",
       "\n",
       "    .dataframe thead th {\n",
       "        text-align: right;\n",
       "    }\n",
       "</style>\n",
       "<table border=\"1\" class=\"dataframe\">\n",
       "  <thead>\n",
       "    <tr style=\"text-align: right;\">\n",
       "      <th></th>\n",
       "      <th>id</th>\n",
       "      <th>Price</th>\n",
       "    </tr>\n",
       "  </thead>\n",
       "  <tbody>\n",
       "    <tr>\n",
       "      <th>0</th>\n",
       "      <td>0</td>\n",
       "      <td>1.480052e+07</td>\n",
       "    </tr>\n",
       "    <tr>\n",
       "      <th>1</th>\n",
       "      <td>1</td>\n",
       "      <td>1.344192e+07</td>\n",
       "    </tr>\n",
       "    <tr>\n",
       "      <th>2</th>\n",
       "      <td>2</td>\n",
       "      <td>6.120990e+06</td>\n",
       "    </tr>\n",
       "    <tr>\n",
       "      <th>3</th>\n",
       "      <td>3</td>\n",
       "      <td>3.790827e+06</td>\n",
       "    </tr>\n",
       "    <tr>\n",
       "      <th>4</th>\n",
       "      <td>4</td>\n",
       "      <td>5.174409e+06</td>\n",
       "    </tr>\n",
       "    <tr>\n",
       "      <th>...</th>\n",
       "      <td>...</td>\n",
       "      <td>...</td>\n",
       "    </tr>\n",
       "    <tr>\n",
       "      <th>320</th>\n",
       "      <td>320</td>\n",
       "      <td>1.704289e+07</td>\n",
       "    </tr>\n",
       "    <tr>\n",
       "      <th>321</th>\n",
       "      <td>321</td>\n",
       "      <td>2.812860e+06</td>\n",
       "    </tr>\n",
       "    <tr>\n",
       "      <th>322</th>\n",
       "      <td>322</td>\n",
       "      <td>5.675328e+06</td>\n",
       "    </tr>\n",
       "    <tr>\n",
       "      <th>323</th>\n",
       "      <td>323</td>\n",
       "      <td>3.235726e+06</td>\n",
       "    </tr>\n",
       "    <tr>\n",
       "      <th>324</th>\n",
       "      <td>324</td>\n",
       "      <td>2.723584e+06</td>\n",
       "    </tr>\n",
       "  </tbody>\n",
       "</table>\n",
       "<p>325 rows × 2 columns</p>\n",
       "</div>"
      ],
      "text/plain": [
       "      id         Price\n",
       "0      0  1.480052e+07\n",
       "1      1  1.344192e+07\n",
       "2      2  6.120990e+06\n",
       "3      3  3.790827e+06\n",
       "4      4  5.174409e+06\n",
       "..   ...           ...\n",
       "320  320  1.704289e+07\n",
       "321  321  2.812860e+06\n",
       "322  322  5.675328e+06\n",
       "323  323  3.235726e+06\n",
       "324  324  2.723584e+06\n",
       "\n",
       "[325 rows x 2 columns]"
      ]
     },
     "execution_count": 27,
     "metadata": {},
     "output_type": "execute_result"
    }
   ],
   "source": [
    "solution.reset_index(drop = True, inplace = True)\n",
    "solution"
   ]
  },
  {
   "cell_type": "code",
   "execution_count": 28,
   "metadata": {},
   "outputs": [
    {
     "name": "stderr",
     "output_type": "stream",
     "text": [
      "C:\\Users\\carlo\\AppData\\Local\\Temp\\ipykernel_15760\\299952750.py:1: SettingWithCopyWarning: \n",
      "A value is trying to be set on a copy of a slice from a DataFrame.\n",
      "Try using .loc[row_indexer,col_indexer] = value instead\n",
      "\n",
      "See the caveats in the documentation: https://pandas.pydata.org/pandas-docs/stable/user_guide/indexing.html#returning-a-view-versus-a-copy\n",
      "  solution['Price'] = solution['Price'].astype(int)\n"
     ]
    }
   ],
   "source": [
    "solution['Price'] = solution['Price'].astype(int)"
   ]
  },
  {
   "cell_type": "code",
   "execution_count": 29,
   "metadata": {},
   "outputs": [
    {
     "data": {
      "text/html": [
       "<div>\n",
       "<style scoped>\n",
       "    .dataframe tbody tr th:only-of-type {\n",
       "        vertical-align: middle;\n",
       "    }\n",
       "\n",
       "    .dataframe tbody tr th {\n",
       "        vertical-align: top;\n",
       "    }\n",
       "\n",
       "    .dataframe thead th {\n",
       "        text-align: right;\n",
       "    }\n",
       "</style>\n",
       "<table border=\"1\" class=\"dataframe\">\n",
       "  <thead>\n",
       "    <tr style=\"text-align: right;\">\n",
       "      <th></th>\n",
       "      <th>id</th>\n",
       "      <th>Price</th>\n",
       "    </tr>\n",
       "  </thead>\n",
       "  <tbody>\n",
       "    <tr>\n",
       "      <th>0</th>\n",
       "      <td>0</td>\n",
       "      <td>14800520</td>\n",
       "    </tr>\n",
       "    <tr>\n",
       "      <th>1</th>\n",
       "      <td>1</td>\n",
       "      <td>13441924</td>\n",
       "    </tr>\n",
       "    <tr>\n",
       "      <th>2</th>\n",
       "      <td>2</td>\n",
       "      <td>6120990</td>\n",
       "    </tr>\n",
       "    <tr>\n",
       "      <th>3</th>\n",
       "      <td>3</td>\n",
       "      <td>3790826</td>\n",
       "    </tr>\n",
       "    <tr>\n",
       "      <th>4</th>\n",
       "      <td>4</td>\n",
       "      <td>5174408</td>\n",
       "    </tr>\n",
       "    <tr>\n",
       "      <th>...</th>\n",
       "      <td>...</td>\n",
       "      <td>...</td>\n",
       "    </tr>\n",
       "    <tr>\n",
       "      <th>320</th>\n",
       "      <td>320</td>\n",
       "      <td>17042888</td>\n",
       "    </tr>\n",
       "    <tr>\n",
       "      <th>321</th>\n",
       "      <td>321</td>\n",
       "      <td>2812859</td>\n",
       "    </tr>\n",
       "    <tr>\n",
       "      <th>322</th>\n",
       "      <td>322</td>\n",
       "      <td>5675327</td>\n",
       "    </tr>\n",
       "    <tr>\n",
       "      <th>323</th>\n",
       "      <td>323</td>\n",
       "      <td>3235725</td>\n",
       "    </tr>\n",
       "    <tr>\n",
       "      <th>324</th>\n",
       "      <td>324</td>\n",
       "      <td>2723584</td>\n",
       "    </tr>\n",
       "  </tbody>\n",
       "</table>\n",
       "<p>325 rows × 2 columns</p>\n",
       "</div>"
      ],
      "text/plain": [
       "      id     Price\n",
       "0      0  14800520\n",
       "1      1  13441924\n",
       "2      2   6120990\n",
       "3      3   3790826\n",
       "4      4   5174408\n",
       "..   ...       ...\n",
       "320  320  17042888\n",
       "321  321   2812859\n",
       "322  322   5675327\n",
       "323  323   3235725\n",
       "324  324   2723584\n",
       "\n",
       "[325 rows x 2 columns]"
      ]
     },
     "execution_count": 29,
     "metadata": {},
     "output_type": "execute_result"
    }
   ],
   "source": [
    "solution.to_csv('solution.csv', index=False)\n",
    "solution"
   ]
  }
 ],
 "metadata": {
  "kernelspec": {
   "display_name": "base",
   "language": "python",
   "name": "python3"
  },
  "language_info": {
   "codemirror_mode": {
    "name": "ipython",
    "version": 3
   },
   "file_extension": ".py",
   "mimetype": "text/x-python",
   "name": "python",
   "nbconvert_exporter": "python",
   "pygments_lexer": "ipython3",
   "version": "3.9.13"
  },
  "orig_nbformat": 4
 },
 "nbformat": 4,
 "nbformat_minor": 2
}
